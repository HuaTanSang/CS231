{
 "cells": [
  {
   "cell_type": "code",
   "execution_count": 10,
   "id": "75df4ee4",
   "metadata": {},
   "outputs": [],
   "source": [
    "import glob\n",
    "import os\n",
    "import torch \n",
    "import torch.nn as nn \n",
    "from torch.utils.data import Dataset\n",
    "from torchvision import transforms "
   ]
  },
  {
   "cell_type": "code",
   "execution_count": 11,
   "id": "aba16385",
   "metadata": {},
   "outputs": [],
   "source": [
    "def preprocess_label(label: str) -> int:\n",
    "    label_to_index = {\n",
    "        'Cuc': 0,\n",
    "        'Dao': 1,\n",
    "        'Lan': 2,\n",
    "        'Mai': 3,\n",
    "        'Tho': 4\n",
    "    }\n",
    "    return label_to_index.get(label, -1)\n",
    "\n",
    "\n",
    "class HoaVietNam(Dataset):\n",
    "    def __init__(self, root_folder):\n",
    "        self.transforms = transforms.Compose([\n",
    "            transforms.Resize((128, 128)),\n",
    "            transforms.ToTensor(),\n",
    "        ])\n",
    "        self.file_paths = [\n",
    "            f for f in sorted(glob.glob(os.path.join(root_folder, \"*/*\")))\n",
    "            if os.path.isfile(f) and f.lower().endswith(('.png', '.jpg', '.jpeg'))\n",
    "        ]\n",
    "\n",
    "    def __len__(self):\n",
    "        return len(self.file_paths)\n",
    "\n",
    "    def __getitem__(self, idx):\n",
    "        path = self.file_paths[idx]\n",
    "        label_name = os.path.basename(os.path.dirname(path))\n",
    "        label = preprocess_label(label_name)\n",
    "\n",
    "        image = Image.open(path).convert(\"RGB\")\n",
    "        image = self.transforms(image)\n",
    "        return image, label"
   ]
  },
  {
   "cell_type": "code",
   "execution_count": 12,
   "id": "b18f7af4",
   "metadata": {},
   "outputs": [],
   "source": [
    "train_data = HoaVietNam(\"/home/huatansang/Documents/IntroductiontoCV/HoaVietNam/train\")"
   ]
  },
  {
   "cell_type": "code",
   "execution_count": 3,
   "id": "c0c99dbb",
   "metadata": {},
   "outputs": [
    {
     "name": "stdout",
     "output_type": "stream",
     "text": [
      "tensor([[-1.1943, -0.2530,  1.2648, -1.3336, -0.2018],\n",
      "        [ 0.2348,  0.8708,  0.2488,  0.1689, -0.1950],\n",
      "        [-0.4119, -0.6777, -0.3176,  2.0850, -0.3621]], requires_grad=True)\n",
      "tensor([1, 0, 4])\n"
     ]
    }
   ],
   "source": [
    "import torch\n",
    "import torch.nn as nn\n",
    "\n",
    "loss = nn.CrossEntropyLoss()\n",
    "input = torch.randn(3, 5, requires_grad=True)  # batch = 3, classes = 5\n",
    "target = torch.tensor([1, 0, 4])               # class indices\n",
    "output = loss(input, target)\n",
    "\n",
    "\n",
    "print(input)\n",
    "print(target)"
   ]
  }
 ],
 "metadata": {
  "kernelspec": {
   "display_name": "Python 3",
   "language": "python",
   "name": "python3"
  },
  "language_info": {
   "codemirror_mode": {
    "name": "ipython",
    "version": 3
   },
   "file_extension": ".py",
   "mimetype": "text/x-python",
   "name": "python",
   "nbconvert_exporter": "python",
   "pygments_lexer": "ipython3",
   "version": "3.10.12"
  }
 },
 "nbformat": 4,
 "nbformat_minor": 5
}
